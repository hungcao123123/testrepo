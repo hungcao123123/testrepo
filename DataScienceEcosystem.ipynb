{
 "cells": [
  {
   "cell_type": "markdown",
   "id": "eee9458d",
   "metadata": {},
   "source": [
    "# DataScienceEcosystem"
   ]
  },
  {
   "cell_type": "markdown",
   "id": "d3e9df99",
   "metadata": {},
   "source": [
    "* In this notebook, Data Science Tools and Ecosystem are summarized."
   ]
  },
  {
   "cell_type": "markdown",
   "id": "add3dd61",
   "metadata": {},
   "source": [
    "## Some of the key takeaways from the course :\n",
    "* List popular languages for Data Science\n",
    "* List commonly used libraries for Data Science\n",
    "* Example for markdown"
   ]
  },
  {
   "cell_type": "markdown",
   "id": "a4e930b7",
   "metadata": {},
   "source": [
    "## Some of the popular languages that Data Scientists use are:\n",
    "* python\n",
    "* R\n",
    "* C++"
   ]
  },
  {
   "cell_type": "markdown",
   "id": "236ab5bf",
   "metadata": {},
   "source": [
    "## Some of the commonly used libraries used by Data Scientists include:\n",
    "* Pandas\n",
    "* Numpy\n",
    "* Matplotlib"
   ]
  },
  {
   "cell_type": "markdown",
   "id": "c6028b59",
   "metadata": {},
   "source": [
    "|Data Science Tools|Tableau|PowerBI|SAS|\n",
    "|------------------|-------|-------|---|"
   ]
  },
  {
   "cell_type": "markdown",
   "id": "7d690f80",
   "metadata": {},
   "source": [
    "### Below are a few examples of evaluating arithmetic expressions in Python"
   ]
  },
  {
   "cell_type": "code",
   "execution_count": 3,
   "id": "f6257359",
   "metadata": {},
   "outputs": [
    {
     "data": {
      "text/plain": [
       "17"
      ]
     },
     "execution_count": 3,
     "metadata": {},
     "output_type": "execute_result"
    }
   ],
   "source": [
    "(3*4)+5\n",
    "#This a simple arithmetic expression to mutiply then add integers"
   ]
  },
  {
   "cell_type": "code",
   "execution_count": 8,
   "id": "c8756677",
   "metadata": {},
   "outputs": [
    {
     "data": {
      "text/plain": [
       "3.3333333333333335"
      ]
     },
     "execution_count": 8,
     "metadata": {},
     "output_type": "execute_result"
    }
   ],
   "source": [
    "200/60\n",
    "# This will convert 200 minutes to hours by diving by 60"
   ]
  },
  {
   "cell_type": "markdown",
   "id": "3f3a0257",
   "metadata": {},
   "source": [
    "## Author\n",
    "* Cao Thanh Hùng"
   ]
  },
  {
   "cell_type": "code",
   "execution_count": null,
   "id": "87e2538a",
   "metadata": {},
   "outputs": [],
   "source": []
  }
 ],
 "metadata": {
  "kernelspec": {
   "display_name": "Python 3 (ipykernel)",
   "language": "python",
   "name": "python3"
  },
  "language_info": {
   "codemirror_mode": {
    "name": "ipython",
    "version": 3
   },
   "file_extension": ".py",
   "mimetype": "text/x-python",
   "name": "python",
   "nbconvert_exporter": "python",
   "pygments_lexer": "ipython3",
   "version": "3.9.12"
  }
 },
 "nbformat": 4,
 "nbformat_minor": 5
}
